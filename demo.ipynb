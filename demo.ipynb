{
 "cells": [
  {
   "cell_type": "code",
   "execution_count": 70,
   "metadata": {},
   "outputs": [
    {
     "name": "stdout",
     "output_type": "stream",
     "text": [
      "extract_audio processing...\n",
      "MoviePy - Writing audio in ./assets/Goblin_test.wav\n"
     ]
    },
    {
     "name": "stderr",
     "output_type": "stream",
     "text": [
      "                                                                        \r"
     ]
    },
    {
     "name": "stdout",
     "output_type": "stream",
     "text": [
      "MoviePy - Done.\n",
      "transcribe_audio processing...\n"
     ]
    },
    {
     "name": "stderr",
     "output_type": "stream",
     "text": [
      "100%|█████████████████████████████████████| 1.51G/1.51G [01:09<00:00, 23.3MiB/s]\n"
     ]
    },
    {
     "name": "stdout",
     "output_type": "stream",
     "text": [
      "파일이 성공적으로 저장되었습니다: ./assets/Goblin_test.txt\n"
     ]
    }
   ],
   "source": [
    "from moviepy.editor import VideoFileClip\n",
    "def extract_audio(video_path, audio_path):\n",
    "    print(\"extract_audio processing...\")\n",
    "    video = VideoFileClip(video_path)\n",
    "    audio = video.audio\n",
    "    audio.write_audiofile(audio_path)\n",
    "\n",
    "import whisper\n",
    "def transcribe_audio(audio_path, model_name=\"base\"):\n",
    "    print(\"transcribe_audio processing...\")\n",
    "    model = whisper.load_model(model_name)\n",
    "    result = model.transcribe(audio_path)\n",
    "    return result\n",
    "\n",
    "# 현재는 대본이 없기 때문에 전적으로 음성 인식결과에서 매칭.\n",
    "# 만약 대본을 구할 수 있다면, 음성인식 부분에서 parse한 결과를 실제 대본으로 업데이트.\n",
    "\n",
    "import re\n",
    "def search_text(transcript, query):\n",
    "    print(\"search_text processing...\")\n",
    "    matches = re.finditer(query, transcript, re.IGNORECASE)\n",
    "    return [match.span() for match in matches]\n",
    "\n",
    "def search_text(result, query):\n",
    "    print(\"search_text processing...\")\n",
    "    for idx, item in enumerate(result[\"segments\"]):\n",
    "        if query in item[\"text\"]:\n",
    "            return result[\"segments\"][idx-1][\"start\"], result[\"segments\"][idx+1][\"end\"], query\n",
    "    return None, None, query\n",
    "\n",
    "def map_time(result, matches):\n",
    "    print(\"mapping time processing...\")\n",
    "    segments = result[\"segments\"]\n",
    "    time_matches = []\n",
    "    for match in matches:\n",
    "        start_time = next(seg[\"start\"] for seg in segments if seg[\"start\"] <= match[0] < seg[\"end\"])\n",
    "        end_time = next(seg[\"end\"] for seg in reversed(segments) if seg[\"start\"] < match[1] <= seg[\"end\"])\n",
    "        time_matches.append((start_time, end_time))\n",
    "    return time_matches\n",
    "\n",
    "def print_results(time_matches):\n",
    "    for start, end in time_matches:\n",
    "        print(f\"대사 발견: {start:.2f}초 - {end:.2f}초\")\n",
    "\n",
    "def save_to_txt(script, file_path = \"./assets/Goblin_test.txt\", encoding='utf-8'):\n",
    "    try:\n",
    "        with open(file_path, 'w', encoding=encoding) as f:\n",
    "            f.write(script)\n",
    "        print(f\"파일이 성공적으로 저장되었습니다: {file_path}\")\n",
    "    except Exception as e:\n",
    "        print(f\"파일 저장 중 오류가 발생했습니다: {str(e)}\")\n",
    "\n",
    "video_path = \"./assets/Goblin_test.mp4\"\n",
    "audio_path = \"./assets/Goblin_test.wav\"\n",
    "extract_audio(video_path, audio_path)\n",
    "# option: base, small, medium, large, turbo\n",
    "# turbo is optimized for inference speed\n",
    "result = transcribe_audio(audio_path, model_name=\"turbo\")\n",
    "transcript = result['text']\n",
    "save_to_txt(transcript)\n",
    "\n",
    "# 8분영상 처리하는데, 약 5분 -> 개선여지 gpu 돌리고 음,,"
   ]
  },
  {
   "cell_type": "code",
   "execution_count": 67,
   "metadata": {},
   "outputs": [],
   "source": [
    "from IPython.display import Video, HTML\n",
    "import base64\n",
    "from pathlib import Path\n",
    "\n",
    "def play_video_basic(video_path, width=800):\n",
    "    \"\"\"기본 비디오 플레이어\"\"\"\n",
    "    return Video(video_path)\n",
    "\n",
    "def play_video_with_controls(video_path, width=800):\n",
    "    \"\"\"HTML5 비디오 플레이어 (컨트롤 포함)\"\"\"\n",
    "    video_path = Path(video_path)\n",
    "    video_type = f'video/{video_path.suffix[1:]}'  # .mp4 -> video/mp4\n",
    "    \n",
    "    html = f'''\n",
    "    <video width=\"{width}\" controls>\n",
    "        <source src=\"{video_path}\" type=\"{video_type}\">\n",
    "        Your browser does not support the video tag.\n",
    "    </video>\n",
    "    '''\n",
    "    return HTML(html)\n",
    "\n",
    "def play_video_segment(video_path, start_time=0, end_time=None, width=800):\n",
    "    \"\"\"특정 구간 재생\"\"\"\n",
    "    video_path = Path(video_path)\n",
    "    video_type = f'video/{video_path.suffix[1:]}'\n",
    "    \n",
    "    # t=시작시간#t=끝시간 형식으로 구간 지정\n",
    "    time_params = f\"#t={start_time}\"\n",
    "    if end_time:\n",
    "        time_params += f\",{end_time}\"\n",
    "    \n",
    "    html = f'''\n",
    "    <video width=\"{width}\" controls>\n",
    "        <source src=\"{video_path}{time_params}\" type=\"{video_type}\">\n",
    "        Your browser does not support the video tag.\n",
    "    </video>\n",
    "    '''\n",
    "    return HTML(html)"
   ]
  },
  {
   "cell_type": "code",
   "execution_count": 76,
   "metadata": {},
   "outputs": [],
   "source": [
    "# sample target_text\n",
    "num = int(input(\"몇 번째 대사를 찾을까요?\"))\n",
    "text_corpus = {\n",
    "    1: \"아파\",\n",
    "    2: \"잘 먹었어\",\n",
    "    3: \"걱정 마\",\n",
    "    4: \"어디 가는데요?\",\n",
    "    5: '그래',\n",
    "    6: '괜찮으세요',\n",
    "    7: '더러워',\n",
    "    8: '처음이야',\n",
    "}\n",
    "target_text = text_corpus[num]"
   ]
  },
  {
   "cell_type": "code",
   "execution_count": 77,
   "metadata": {},
   "outputs": [
    {
     "name": "stdout",
     "output_type": "stream",
     "text": [
      "search_text processing...\n"
     ]
    },
    {
     "data": {
      "text/html": [
       "\n",
       "    <video width=\"800\" controls>\n",
       "        <source src=\"assets/Goblin_test.mp4#t=61.68,71.12\" type=\"video/mp4\">\n",
       "        Your browser does not support the video tag.\n",
       "    </video>\n",
       "    "
      ],
      "text/plain": [
       "<IPython.core.display.HTML object>"
      ]
     },
     "metadata": {},
     "output_type": "display_data"
    }
   ],
   "source": [
    "#특정 구간 재생\n",
    "start_time, end_time, query = search_text(result, target_text)\n",
    "segment_player = play_video_segment(video_path, start_time=start_time, end_time=end_time)\n",
    "display(segment_player)"
   ]
  },
  {
   "cell_type": "code",
   "execution_count": null,
   "metadata": {},
   "outputs": [],
   "source": []
  }
 ],
 "metadata": {
  "kernelspec": {
   "display_name": "script-finder",
   "language": "python",
   "name": "python3"
  },
  "language_info": {
   "codemirror_mode": {
    "name": "ipython",
    "version": 3
   },
   "file_extension": ".py",
   "mimetype": "text/x-python",
   "name": "python",
   "nbconvert_exporter": "python",
   "pygments_lexer": "ipython3",
   "version": "3.11.11"
  }
 },
 "nbformat": 4,
 "nbformat_minor": 2
}

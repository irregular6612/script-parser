{
 "cells": [
  {
   "cell_type": "code",
   "execution_count": 1,
   "metadata": {},
   "outputs": [],
   "source": [
    "from moviepy.editor import VideoFileClip\n",
    "def extract_audio(video_path, audio_path):\n",
    "    print(\"extract_audio processing...\")\n",
    "    video = VideoFileClip(video_path)\n",
    "    audio = video.audio\n",
    "    audio.write_audiofile(audio_path)\n",
    "\n",
    "import whisper\n",
    "def transcribe_audio(audio_path):\n",
    "    print(\"transcribe_audio processing...\")\n",
    "    model = whisper.load_model(\"base\")\n",
    "    result = model.transcribe(audio_path)\n",
    "    return result\n",
    "\n",
    "# 현재는 대본이 없기 때문에 전적으로 음성 인식결과에서 매칭.\n",
    "# 만약 대본을 구할 수 있다면, 음성인식 부분에서 parse한 결과를 실제 대본으로 업데이트.\n",
    "\n",
    "import re\n",
    "def search_text(transcript, query):\n",
    "    print(\"search_text processing...\")\n",
    "    matches = re.finditer(query, transcript, re.IGNORECASE)\n",
    "    return [match.span() for match in matches]\n",
    "def search_text(result, query):\n",
    "    print(\"search_text processing...\")\n",
    "    for item in result[\"segments\"]:\n",
    "        if query in item[\"text\"]:\n",
    "            return item[\"start\"], item[\"end\"], query\n",
    "    return None, None, query\n",
    "\n",
    "def map_time(result, matches):\n",
    "    print(\"mapping time processing...\")\n",
    "    segments = result[\"segments\"]\n",
    "    time_matches = []\n",
    "    for match in matches:\n",
    "        start_time = next(seg[\"start\"] for seg in segments if seg[\"start\"] <= match[0] < seg[\"end\"])\n",
    "        end_time = next(seg[\"end\"] for seg in reversed(segments) if seg[\"start\"] < match[1] <= seg[\"end\"])\n",
    "        time_matches.append((start_time, end_time))\n",
    "    return time_matches\n",
    "\n",
    "def print_results(time_matches):\n",
    "    for start, end in time_matches:\n",
    "        print(f\"대사 발견: {start:.2f}초 - {end:.2f}초\")\n",
    "\n",
    "def save_to_txt(script, file_path = \"./assets/Goblin_test.txt\", encoding='utf-8'):\n",
    "    try:\n",
    "        with open(file_path, 'w', encoding=encoding) as f:\n",
    "            f.write(script)\n",
    "        print(f\"파일이 성공적으로 저장되었습니다: {file_path}\")\n",
    "    except Exception as e:\n",
    "        print(f\"파일 저장 중 오류가 발생했습니다: {str(e)}\")\n",
    "\n",
    "# 사용 예시:\n",
    "text = \"안녕하세요\\n이것은 테스트입니다.\"\n",
    "save_to_txt(text)\n",
    "\n",
    "# 다른 인코딩으로 저장하고 싶을 때\n",
    "# save_to_txt(text, \"output.txt\", encoding='cp949')  # 윈도우 한글 인코딩"
   ]
  },
  {
   "cell_type": "code",
   "execution_count": 1,
   "metadata": {},
   "outputs": [],
   "source": [
    "from IPython.display import Video, HTML\n",
    "import base64\n",
    "from pathlib import Path\n",
    "\n",
    "def play_video_basic(video_path, width=800):\n",
    "    \"\"\"기본 비디오 플레이어\"\"\"\n",
    "    return Video(video_path)\n",
    "\n",
    "def play_video_with_controls(video_path, width=800):\n",
    "    \"\"\"HTML5 비디오 플레이어 (컨트롤 포함)\"\"\"\n",
    "    video_path = Path(video_path)\n",
    "    video_type = f'video/{video_path.suffix[1:]}'  # .mp4 -> video/mp4\n",
    "    \n",
    "    html = f'''\n",
    "    <video width=\"{width}\" controls>\n",
    "        <source src=\"{video_path}\" type=\"{video_type}\">\n",
    "        Your browser does not support the video tag.\n",
    "    </video>\n",
    "    '''\n",
    "    return HTML(html)\n",
    "\n",
    "def play_video_segment(video_path, start_time=0, end_time=None, width=800):\n",
    "    \"\"\"특정 구간 재생\"\"\"\n",
    "    video_path = Path(video_path)\n",
    "    video_type = f'video/{video_path.suffix[1:]}'\n",
    "    \n",
    "    # t=시작시간#t=끝시간 형식으로 구간 지정\n",
    "    time_params = f\"#t={start_time}\"\n",
    "    if end_time:\n",
    "        time_params += f\",{end_time}\"\n",
    "    \n",
    "    html = f'''\n",
    "    <video width=\"{width}\" controls>\n",
    "        <source src=\"{video_path}{time_params}\" type=\"{video_type}\">\n",
    "        Your browser does not support the video tag.\n",
    "    </video>\n",
    "    '''\n",
    "    return HTML(html)\n",
    "\n"
   ]
  },
  {
   "cell_type": "code",
   "execution_count": 22,
   "metadata": {},
   "outputs": [
    {
     "name": "stdout",
     "output_type": "stream",
     "text": [
      "extract_audio processing...\n",
      "MoviePy - Writing audio in ./assets/Goblin_test.wav\n"
     ]
    },
    {
     "name": "stderr",
     "output_type": "stream",
     "text": [
      "                                                                        "
     ]
    },
    {
     "name": "stdout",
     "output_type": "stream",
     "text": [
      "MoviePy - Done.\n"
     ]
    },
    {
     "name": "stderr",
     "output_type": "stream",
     "text": [
      "\r"
     ]
    }
   ],
   "source": [
    "video_path = \"./assets/Goblin_test.mp4\"\n",
    "audio_path = \"./assets/Goblin_test.wav\"\n",
    "\n",
    "target_text = \"아파\"\n",
    "\n",
    "extract_audio(video_path, audio_path)\n",
    "result = transcribe_audio(audio_path)\n",
    "transcript = result['text']\n",
    "matches = search_text(transcript, target_text)\n",
    "start_time, end_time, query = search_text(result, target_text)\n"
   ]
  },
  {
   "cell_type": "code",
   "execution_count": 29,
   "metadata": {},
   "outputs": [
    {
     "data": {
      "text/html": [
       "\n",
       "    <video width=\"800\" controls>\n",
       "        <source src=\"assets/Goblin_test.mp4#t=25.400000000000002,27.64\" type=\"video/mp4\">\n",
       "        Your browser does not support the video tag.\n",
       "    </video>\n",
       "    "
      ],
      "text/plain": [
       "<IPython.core.display.HTML object>"
      ]
     },
     "metadata": {},
     "output_type": "display_data"
    }
   ],
   "source": [
    "# 3. 특정 구간 재생 (예: 10초부터 20초까지)\n",
    "segment_player = play_video_segment(video_path, start_time=start_time, end_time=end_time)\n",
    "display(segment_player)"
   ]
  },
  {
   "cell_type": "code",
   "execution_count": null,
   "metadata": {},
   "outputs": [],
   "source": []
  }
 ],
 "metadata": {
  "kernelspec": {
   "display_name": "script-finder",
   "language": "python",
   "name": "python3"
  },
  "language_info": {
   "codemirror_mode": {
    "name": "ipython",
    "version": 3
   },
   "file_extension": ".py",
   "mimetype": "text/x-python",
   "name": "python",
   "nbconvert_exporter": "python",
   "pygments_lexer": "ipython3",
   "version": "3.11.11"
  }
 },
 "nbformat": 4,
 "nbformat_minor": 2
}
